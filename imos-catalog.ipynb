{
 "cells": [
  {
   "cell_type": "markdown",
   "metadata": {},
   "source": [
    "# Step 1\n",
    "\n",
    "Run this to create the function that translate the MULTIPOLYGON string from geo-network to MultiPolygon array in GeoJson"
   ]
  },
  {
   "cell_type": "code",
   "execution_count": 5,
   "metadata": {},
   "outputs": [],
   "source": [
    "import re"
   ]
  },
  {
   "cell_type": "code",
   "execution_count": 7,
   "metadata": {},
   "outputs": [],
   "source": [
    "original = \"MULTIPOLYGON (((102.0 2.0, 103.0 2.0, 103.0 3.0, 102.0 3.0, 102.0 2.0)), ((100.0 0.0, 101.0 0.0, 101.0 1.0, 100.0 1.0, 100.0 0.0), (100.2 0.2, 100.8 0.2, 100.8 0.8, 100.2 0.8, 100.2 0.2)))\""
   ]
  },
  {
   "cell_type": "code",
   "execution_count": 8,
   "metadata": {},
   "outputs": [
    {
     "data": {
      "text/plain": [
       "['(102.0 2.0, 103.0 2.0, 103.0 3.0, 102.0 3.0, 102.0 2.0)',\n",
       " '(100.0 0.0, 101.0 0.0, 101.0 1.0, 100.0 1.0, 100.0 0.0), (100.2 0.2, 100.8 0.2, 100.8 0.8, 100.2 0.8, 100.2 0.2)']"
      ]
     },
     "execution_count": 8,
     "metadata": {},
     "output_type": "execute_result"
    }
   ],
   "source": [
    "elements = get_elements(original)\n",
    "elements"
   ]
  },
  {
   "cell_type": "code",
   "execution_count": 3,
   "metadata": {},
   "outputs": [
    {
     "ename": "NameError",
     "evalue": "name 're' is not defined",
     "output_type": "error",
     "traceback": [
      "\u001b[0;31m---------------------------------------------------------------------------\u001b[0m",
      "\u001b[0;31mNameError\u001b[0m                                 Traceback (most recent call last)",
      "Input \u001b[0;32mIn [3]\u001b[0m, in \u001b[0;36m<cell line: 35>\u001b[0;34m()\u001b[0m\n\u001b[1;32m     31\u001b[0m         results\u001b[38;5;241m.\u001b[39mappend(processed_ar)\n\u001b[1;32m     32\u001b[0m     \u001b[38;5;28;01mreturn\u001b[39;00m results\n\u001b[0;32m---> 35\u001b[0m results \u001b[38;5;241m=\u001b[39m \u001b[43mtranslate_trajectory_multipolygon\u001b[49m\u001b[43m(\u001b[49m\u001b[43moriginal\u001b[49m\u001b[43m)\u001b[49m\n\u001b[1;32m     36\u001b[0m results\n",
      "Input \u001b[0;32mIn [3]\u001b[0m, in \u001b[0;36mtranslate_trajectory_multipolygon\u001b[0;34m(original)\u001b[0m\n\u001b[1;32m     20\u001b[0m \u001b[38;5;28;01mdef\u001b[39;00m \u001b[38;5;21mtranslate_trajectory_multipolygon\u001b[39m(original: \u001b[38;5;28mstr\u001b[39m) \u001b[38;5;241m-\u001b[39m\u001b[38;5;241m>\u001b[39m \u001b[38;5;28mlist\u001b[39m:\n\u001b[0;32m---> 21\u001b[0m     elements \u001b[38;5;241m=\u001b[39m \u001b[43mget_elements\u001b[49m\u001b[43m(\u001b[49m\u001b[43moriginal\u001b[49m\u001b[43m)\u001b[49m\n\u001b[1;32m     22\u001b[0m     results \u001b[38;5;241m=\u001b[39m []\n\u001b[1;32m     23\u001b[0m     \u001b[38;5;28;01mfor\u001b[39;00m i, element \u001b[38;5;129;01min\u001b[39;00m \u001b[38;5;28menumerate\u001b[39m(elements):\n",
      "Input \u001b[0;32mIn [3]\u001b[0m, in \u001b[0;36mget_elements\u001b[0;34m(original)\u001b[0m\n\u001b[1;32m      1\u001b[0m \u001b[38;5;28;01mdef\u001b[39;00m \u001b[38;5;21mget_elements\u001b[39m(original: \u001b[38;5;28mstr\u001b[39m) \u001b[38;5;241m-\u001b[39m\u001b[38;5;241m>\u001b[39m \u001b[38;5;28mlist\u001b[39m:\n\u001b[0;32m----> 2\u001b[0m     new_str \u001b[38;5;241m=\u001b[39m \u001b[43mre\u001b[49m\u001b[38;5;241m.\u001b[39msub(\u001b[38;5;124mr\u001b[39m\u001b[38;5;124m'\u001b[39m\u001b[38;5;124m\\\u001b[39m\u001b[38;5;124m)\u001b[39m\u001b[38;5;124m\\\u001b[39m\u001b[38;5;124m)$\u001b[39m\u001b[38;5;124m'\u001b[39m, \u001b[38;5;124m'\u001b[39m\u001b[38;5;124m'\u001b[39m, original\u001b[38;5;241m.\u001b[39mreplace(\u001b[38;5;124m'\u001b[39m\u001b[38;5;124mMULTIPOLYGON ((\u001b[39m\u001b[38;5;124m'\u001b[39m, \u001b[38;5;124m'\u001b[39m\u001b[38;5;124m'\u001b[39m))\n\u001b[1;32m      3\u001b[0m     \u001b[38;5;28;01mif\u001b[39;00m \u001b[38;5;124m'\u001b[39m\u001b[38;5;124m)), ((\u001b[39m\u001b[38;5;124m'\u001b[39m \u001b[38;5;129;01min\u001b[39;00m new_str:\n\u001b[1;32m      4\u001b[0m         new_str \u001b[38;5;241m=\u001b[39m new_str\u001b[38;5;241m.\u001b[39mreplace(\u001b[38;5;124m'\u001b[39m\u001b[38;5;124m)), ((\u001b[39m\u001b[38;5;124m'\u001b[39m, \u001b[38;5;124m'\u001b[39m\u001b[38;5;124m);; (\u001b[39m\u001b[38;5;124m'\u001b[39m)\n",
      "\u001b[0;31mNameError\u001b[0m: name 're' is not defined"
     ]
    }
   ],
   "source": [
    "def get_elements(original: str) -> list:\n",
    "    new_str = re.sub(r'\\)\\)$', '', original.replace('MULTIPOLYGON ((', ''))\n",
    "    if ')), ((' in new_str:\n",
    "        new_str = new_str.replace(')), ((', ');; (')\n",
    "        elements = new_str.split(';; ')\n",
    "    else:\n",
    "        elements = []\n",
    "        elements.append(new_str)\n",
    "    return elements\n",
    "\n",
    "def translate_coordinates(element: str) -> list:\n",
    "    mp = re.sub(r'^\\(', '', element)\n",
    "    mp = re.sub(r'\\)$', '', mp)\n",
    "    coors = mp.split(\",\")\n",
    "    ar = []\n",
    "    for coor in coors:\n",
    "        ar.append([float(i) for i in coor.strip().split(\" \")])\n",
    "    return ar\n",
    "\n",
    "def translate_trajectory_multipolygon(original: str) -> list:\n",
    "    elements = get_elements(original)\n",
    "    results = []\n",
    "    for i, element in enumerate(elements):\n",
    "        processed_ar = []\n",
    "        if '), (' in element:\n",
    "            sub_elements = element.split('), (')\n",
    "            for sub_element in sub_elements:\n",
    "                processed_ar.append(translate_coordinates(sub_element))\n",
    "        else:\n",
    "            processed_ar.append(translate_coordinates(element))\n",
    "        results.append(processed_ar)\n",
    "    return results\n",
    "\n",
    "\n",
    "results = translate_trajectory_multipolygon(original)\n",
    "results"
   ]
  },
  {
   "cell_type": "code",
   "execution_count": 10,
   "metadata": {
    "collapsed": false,
    "jupyter": {
     "outputs_hidden": false
    }
   },
   "outputs": [],
   "source": [
    "# Some init setting, replace the API key for your instance\n",
    "\n",
    "import urllib.request as request\n",
    "import requests as postApi\n",
    "import json\n",
    "\n",
    "headers = {\n",
    "    \"Content-Type\": \"application/json\",\n",
    "    \"Authorization\": \"ApiKey WTlTdUNZVUJUWGtsWTg4N1Z2T1Q6cFFadkFicGdSbFNnbVdPRkNrcWVKdw==\"\n",
    "}\n"
   ]
  },
  {
   "cell_type": "code",
   "execution_count": 14,
   "metadata": {
    "collapsed": false,
    "jupyter": {
     "outputs_hidden": false
    }
   },
   "outputs": [
    {
     "name": "stderr",
     "output_type": "stream",
     "text": [
      "/home/vhnguyen/anaconda3/envs/architecturereview/lib/python3.9/site-packages/urllib3/connectionpool.py:1045: InsecureRequestWarning: Unverified HTTPS request is being made to host 'ec2-54-253-84-18.ap-southeast-2.compute.amazonaws.com'. Adding certificate verification is strongly advised. See: https://urllib3.readthedocs.io/en/1.26.x/advanced-usage.html#ssl-warnings\n",
      "  warnings.warn(\n"
     ]
    },
    {
     "name": "stdout",
     "output_type": "stream",
     "text": [
      "{\"acknowledged\":true,\"shards_acknowledged\":true,\"index\":\"search-soop-trajectory-data\"}\n"
     ]
    }
   ],
   "source": [
    "# Create the correct Mapping, the key here is to map the geoPolygon to geo_shape, the elastic do not guess the type correct and\n",
    "# hence need to override it.\n",
    "x = postApi.put('https://ec2-54-253-84-18.ap-southeast-2.compute.amazonaws.com:9200/search-soop-trajectory-data', headers=headers, json={\n",
    "    \"settings\": {\n",
    "        \"index\": {\n",
    "            \"number_of_shards\": \"1\",\n",
    "            \"analysis\": {\n",
    "                \"filter\": {\n",
    "                    \"front_ngram\": {\n",
    "                        \"type\": \"edge_ngram\",\n",
    "                        \"min_gram\": \"1\",\n",
    "                        \"max_gram\": \"12\"\n",
    "                    },\n",
    "                    \"bigram_joiner\": {\n",
    "                        \"max_shingle_size\": \"2\",\n",
    "                        \"token_separator\": \"\",\n",
    "                        \"output_unigrams\": \"false\",\n",
    "                        \"type\": \"shingle\"\n",
    "                    },\n",
    "                    \"bigram_max_size\": {\n",
    "                        \"type\": \"length\",\n",
    "                        \"max\": \"16\",\n",
    "                        \"min\": \"0\"\n",
    "                    },\n",
    "                    \"en-stem-filter\": {\n",
    "                        \"name\": \"light_english\",\n",
    "                        \"type\": \"stemmer\",\n",
    "                        \"language\": \"light_english\"\n",
    "                    },\n",
    "                    \"bigram_joiner_unigrams\": {\n",
    "                        \"max_shingle_size\": \"2\",\n",
    "                        \"token_separator\": \"\",\n",
    "                        \"output_unigrams\": \"true\",\n",
    "                        \"type\": \"shingle\"\n",
    "                    },\n",
    "                    \"delimiter\": {\n",
    "                        \"split_on_numerics\": \"true\",\n",
    "                        \"generate_word_parts\": \"true\",\n",
    "                        \"preserve_original\": \"false\",\n",
    "                        \"catenate_words\": \"true\",\n",
    "                        \"generate_number_parts\": \"true\",\n",
    "                        \"catenate_all\": \"true\",\n",
    "                        \"split_on_case_change\": \"true\",\n",
    "                        \"type\": \"word_delimiter_graph\",\n",
    "                        \"catenate_numbers\": \"true\",\n",
    "                        \"stem_english_possessive\": \"true\"\n",
    "                    },\n",
    "                    \"en-stop-words-filter\": {\n",
    "                        \"type\": \"stop\",\n",
    "                        \"stopwords\": \"_english_\"\n",
    "                    }\n",
    "                },\n",
    "                \"analyzer\": {\n",
    "                    \"i_prefix\": {\n",
    "                        \"filter\": [\n",
    "                            \"cjk_width\",\n",
    "                            \"lowercase\",\n",
    "                            \"asciifolding\",\n",
    "                            \"front_ngram\"\n",
    "                        ],\n",
    "                        \"type\": \"custom\",\n",
    "                        \"tokenizer\": \"standard\"\n",
    "                    },\n",
    "                    \"iq_text_delimiter\": {\n",
    "                        \"filter\": [\n",
    "                            \"delimiter\",\n",
    "                            \"cjk_width\",\n",
    "                            \"lowercase\",\n",
    "                            \"asciifolding\",\n",
    "                            \"en-stop-words-filter\",\n",
    "                            \"en-stem-filter\"\n",
    "                        ],\n",
    "                        \"type\": \"custom\",\n",
    "                        \"tokenizer\": \"whitespace\"\n",
    "                    },\n",
    "                    \"q_prefix\": {\n",
    "                        \"filter\": [\n",
    "                            \"cjk_width\",\n",
    "                            \"lowercase\",\n",
    "                            \"asciifolding\"\n",
    "                        ],\n",
    "                        \"type\": \"custom\",\n",
    "                        \"tokenizer\": \"standard\"\n",
    "                    },\n",
    "                    \"iq_text_base\": {\n",
    "                        \"filter\": [\n",
    "                            \"cjk_width\",\n",
    "                            \"lowercase\",\n",
    "                            \"asciifolding\",\n",
    "                            \"en-stop-words-filter\"\n",
    "                        ],\n",
    "                        \"type\": \"custom\",\n",
    "                        \"tokenizer\": \"standard\"\n",
    "                    },\n",
    "                    \"iq_text_stem\": {\n",
    "                        \"filter\": [\n",
    "                            \"cjk_width\",\n",
    "                            \"lowercase\",\n",
    "                            \"asciifolding\",\n",
    "                            \"en-stop-words-filter\",\n",
    "                            \"en-stem-filter\"\n",
    "                        ],\n",
    "                        \"type\": \"custom\",\n",
    "                        \"tokenizer\": \"standard\"\n",
    "                    },\n",
    "                    \"i_text_bigram\": {\n",
    "                        \"filter\": [\n",
    "                            \"cjk_width\",\n",
    "                            \"lowercase\",\n",
    "                            \"asciifolding\",\n",
    "                            \"en-stem-filter\",\n",
    "                            \"bigram_joiner\",\n",
    "                            \"bigram_max_size\"\n",
    "                        ],\n",
    "                        \"type\": \"custom\",\n",
    "                        \"tokenizer\": \"standard\"\n",
    "                    },\n",
    "                    \"q_text_bigram\": {\n",
    "                        \"filter\": [\n",
    "                            \"cjk_width\",\n",
    "                            \"lowercase\",\n",
    "                            \"asciifolding\",\n",
    "                            \"en-stem-filter\",\n",
    "                            \"bigram_joiner_unigrams\",\n",
    "                            \"bigram_max_size\"\n",
    "                        ],\n",
    "                        \"type\": \"custom\",\n",
    "                        \"tokenizer\": \"standard\"\n",
    "                    }\n",
    "                }\n",
    "            },\n",
    "            \"number_of_replicas\": \"1\"\n",
    "        }\n",
    "    },\n",
    "    \"mappings\": {\n",
    "        \"dynamic\": \"true\",\n",
    "        \"dynamic_templates\": [\n",
    "            {\n",
    "                \"all_text_fields\": {\n",
    "                    \"match_mapping_type\": \"string\",\n",
    "                    \"mapping\": {\n",
    "                        \"analyzer\": \"iq_text_base\",\n",
    "                        \"fields\": {\n",
    "                            \"delimiter\": {\n",
    "                                \"analyzer\": \"iq_text_delimiter\",\n",
    "                                \"type\": \"text\",\n",
    "                                \"index_options\": \"freqs\"\n",
    "                            },\n",
    "                            \"joined\": {\n",
    "                                \"search_analyzer\": \"q_text_bigram\",\n",
    "                                \"analyzer\": \"i_text_bigram\",\n",
    "                                \"type\": \"text\",\n",
    "                                \"index_options\": \"freqs\"\n",
    "                            },\n",
    "                            \"prefix\": {\n",
    "                                \"search_analyzer\": \"q_prefix\",\n",
    "                                \"analyzer\": \"i_prefix\",\n",
    "                                \"type\": \"text\",\n",
    "                                \"index_options\": \"docs\"\n",
    "                            },\n",
    "                            \"enum\": {\n",
    "                                \"ignore_above\": 2048,\n",
    "                                \"type\": \"keyword\"\n",
    "                            },\n",
    "                            \"stem\": {\n",
    "                                \"analyzer\": \"iq_text_stem\",\n",
    "                                \"type\": \"text\"\n",
    "                            }\n",
    "                        }\n",
    "                    }\n",
    "                }\n",
    "            },\n",
    "            {\n",
    "                \"goe_array_as_shape\": {\n",
    "                    \"match_mapping_type\": \"*\",\n",
    "                    \"match\": \"geoPolygon\",\n",
    "                    \"mapping\": { \"type\" : \"geo_shape\"}\n",
    "                }\n",
    "            }\n",
    "        ]\n",
    "    }\n",
    "}, verify=False);\n",
    "\n",
    "print(x.text)"
   ]
  },
  {
   "cell_type": "code",
   "execution_count": 11,
   "metadata": {
    "collapsed": false,
    "jupyter": {
     "outputs_hidden": false
    }
   },
   "outputs": [
    {
     "name": "stdout",
     "output_type": "stream",
     "text": [
      "{'title': 'IMOS - SOOP-Sea Surface Temperature (SST) Sub-facility - Near real-time data', 'abstract': \"The Sea Surface Temperature (SST) sub-facility aims to enable accurate, quality controlled, SST data to be supplied in near real-time (within 24 hours) from SOOPs and research vessels in oceans worldwide. Remotely sensed sea surface temperature (SST) data is an important input to ocean, numerical weather prediction, seasonal and climate models. In order to improve calibration and validation of satellite SST in the Australian region, there is a need for high quality in situ SST observations with greater timeliness, spatial and temporal coverage than is currently available. Regions particularly lacking in moored or drifting buoy observations are the Western Pacific Tropical Warm Pool region (Indonesia), close to the Australian coast (including Bass Strait) and the Southern Ocean. Current ship SST observations from ships of opportunity (SOOP) are either of questionable accuracy or difficult to access in a timely manner. There are five vessels carrying automatic weather stations (AWS) that participate in the Australian Volunteer Observing Fleet (AVOF) program and two vessels equipped with a newly designed system for real-time SST data acquisition. Their routes include the Southern Ocean, coastal Australia (Queensland to South Australia), Bass Strait, Pacific Ocean, South-East Asia and the Tasman Sea. Four AVOF vessels with hull-mounted temperature sensors (Sea Bird SBE 48) and one with a digital oceanographic thermometer (Sea Bird SBE 38, L'Astrolabe) are supplying high-quality bulk SST data hourly. There is also one passenger ferry that is currently taking SST measurements using the high-accuracy SBE 38 sensor (SeaFlyte, Hillarys Harbour-Rottnest Island), and one near real-time SST data stream available from a small research vessel operated by CSIRO near the south-east coast of Western Australia (Linnaeus). All SST data are being quality assured, placed on the Global Telecommunications System (GTS) and fed into the Bureau of Meteorology's near real-time satellite SST data validation system and operational regional and global SST analyses. Additionally, there are historical SST observations from four vessels which are not currently available in real-time: passenger ferry MV Fantasea, Whitsundays area, radiometer and bulk SST (November 2008 to March 2010); two AVOF vessels: MV Iron Yandi (February 2010 to January 2011) and PV Pacific Sun (December 2010 to July 2012); and one Voluntary Observing Ship (VOS), MV Pacific Celebes which has been carrying high-quality scientific equipment (January 2008 to March 2012). The data represented by this record are presented in near real-time.\", 'resourceConstraints': 'Data, products and services from IMOS are provided \"as is\" without any warranty as to fitness for a particular purpose.', 'responsibleParty': ['Principal investigator|resource|Australian Bureau of Meteorology||joel.cabrie@bom.gov.au|Cabrie, Joel|Sub-facility leader||||0|', 'Distributor|metadata|Integrated Marine Observing System (IMOS)||info@aodn.org.au|Website of the Australian Ocean Data Network (AODN)|Data Officer||||0|'], 'type': 'dataset', 'legalConstraints': ['Creative Commons Attribution 4.0 International License', 'http://creativecommons.org/licenses/by/4.0/', 'The citation in a list of references is: \"IMOS [year-of-data-download], [Title], [data-access-URL], accessed [date-of-access].\"', 'Any users of IMOS data are required to clearly acknowledge the source of the material derived from IMOS in the format: \"Data was sourced from Australia?s Integrated Marine Observing System (IMOS) ? IMOS is enabled by the National Collaborative Research Infrastructure strategy (NCRIS).\" If relevant, also credit other organisations involved in collection of this particular datastream (as listed in \\'credit\\' in the metadata record).'], 'isHarvested': 'n', 'displayOrder': '0', 'organisation': ['Integrated Marine Observing System (IMOS)', 'Australian Bureau of Meteorology'], 'docLocale': 'eng', 'popularity': '10784', 'useLimitation': 'Data, products and services from IMOS are provided \"as is\" without any warranty as to fitness for a particular purpose.', 'keyword': ['Oceans | Ocean Temperature | Sea Surface Temperature', 'Oceans | Ocean Winds | Surface Winds', 'Atmosphere | Atmospheric Temperature | Air Temperature', 'Atmosphere | Atmospheric Pressure | Atmospheric Pressure', 'Atmosphere | Atmospheric Water Vapor | Dew Point', \"IMOS Platform | FHZI | L'Astrolabe\", 'IMOS Platform | VJQ7467 | Fantasea Wonder', 'IMOS Platform | VNSZ | Spirit of Tasmania II', 'IMOS Platform | VROB | Highland Chief', 'IMOS Platform | C6FS9 | Stadacona', 'IMOS Platform | VNAH | Portland', 'IMOS Platform | VRZN9 | Pacific Celebes', 'IMOS Platform | VNVR | Iron Yandi', 'IMOS Platform | 9HA2479 | Pacific Sun', 'IMOS Platform | VHW5167 | Sea Flyte', 'IMOS Platform | HSB3403 | Wana Bhum', 'IMOS Platform | VHW6005 | Linnaeus', 'IMOS Platform | HSB3402 | Xutra Bhum', 'Global / Oceans | Indian Ocean', 'Global / Oceans | Southern Ocean', 'Global / Oceans | Pacific Ocean', 'Global / Oceans | Atlantic Ocean', 'Regional Seas | Mediterranean Sea', 'Regional Seas | Red Sea', 'Regional Seas | Arabian Sea', 'Marine Features (Australia) | Great Australian Bight, SA/WA', 'Marine Features (Australia) | Bass Strait, TAS/VIC', 'Regional Seas | Tasman Sea', 'Regional Seas | Coral Sea', 'Regional Seas | Arafura Sea', 'Regional Seas | Java Sea', 'Regional Seas | Banda Sea', 'Regional Seas | Solomon Sea', 'Regional Seas | Philippine Sea', 'Regional Seas | South China Sea', 'Regional Seas | East China Sea', 'Marine Features | Strait of Malacca', 'Countries | Indonesia', 'Countries | Australia', 'Countries | New Zealand', 'Countries | Philippines', 'Countries | Papua New Guinea', 'Countries | Singapore', 'Countries | Timor-Leste', 'Countries | China', 'Countries | South Korea', 'Countries | Japan', 'Countries | New Caledonia', 'Countries | Vanuatu', 'Countries | French Polynesia', 'Countries | Fiji', 'Countries | Saudi Arabia', 'Countries | Samoa', 'Countries | Italy', 'Countries | United States of America', 'Countries | Panama', 'Countries | India', 'Continents | Antarctica', 'States, Territories (Australia) | Western Australia', 'States, Territories (Australia) | Queensland', 'States, Territories (Australia) | Victoria', 'States, Territories (Australia) | Tasmania', 'States, Territories (Australia) | New South Wales', 'States, Territories (Australia) | Northern Territory', 'States, Territories (Australia) | South Australia', 'Marine Features (Australia) | Great Barrier Reef, QLD', 'vessel of opportunity', 'vessel of opportunity on fixed route', 'research vessel', 'Linnaeus', \"L'Astrolabe {FHZI}\", 'Cape Ferguson', 'Solander', 'Electrical conductivity of the water body', 'Temperature of the water body', 'Practical salinity of the water body', 'Wind from direction in the atmosphere', 'Wind speed in the atmosphere', 'Pressure (measured variable) exerted by the atmosphere', 'Temperature of the atmosphere', 'Dew point temperature of the atmosphere', 'Wet bulb temperature of the atmosphere', 'Relative humidity of the atmosphere', 'water temperature sensor', 'salinity sensor', 'thermosalinographs', 'anemometers', 'meteorological packages', 'Sea Surface Temperature Sensors for Australian Vessels Sub-Facility, Integrated Marine Observing System (IMOS)'], 'credit': [\"Australia's Integrated Marine Observing System (IMOS) is enabled by the National Collaborative Research Infrastructure Strategy (NCRIS). It is operated by a consortium of institutions as an unincorporated joint venture, with the University of Tasmania as Lead Agent.\", 'Bureau of Meteorology (BOM)', 'CSIRO Oceans and Atmosphere'], 'publishedForGroup': '1', 'geoPolygon': {'type': 'MultiPolygon', 'coordinates': [[[[136.0, -70.0], [136.0, -66.0], [132.0, -66.0], [132.0, -62.0], [136.0, -62.0], [136.0, -54.0], [140.0, -54.0], [140.0, -46.0], [144.0, -46.0], [144.0, -42.0], [128.0, -42.0], [128.0, -38.0], [112.0, -38.0], [112.0, -30.0], [108.0, -30.0], [108.0, -18.0], [104.0, -18.0], [104.0, -10.0], [96.0, -10.0], [96.0, -14.0], [88.0, -14.0], [88.0, -18.0], [76.0, -18.0], [76.0, -22.0], [64.0, -22.0], [64.0, -26.0], [52.0, -26.0], [52.0, -30.0], [40.0, -30.0], [40.0, -34.0], [28.0, -34.0], [28.0, -38.0], [16.0, -38.0], [16.0, -34.0], [8.0, -34.0], [8.0, -30.0], [4.0, -30.0], [4.0, -26.0], [0.0, -26.0], [0.0, -22.0], [-4.0, -22.0], [-4.0, -18.0], [-12.0, -18.0], [-12.0, -14.0], [-16.0, -14.0], [-16.0, -10.0], [-20.0, -10.0], [-20.0, -6.0], [-24.0, -6.0], [-24.0, -2.0], [-28.0, -2.0], [-28.0, 2.0], [-36.0, 2.0], [-36.0, 6.0], [-40.0, 6.0], [-40.0, 10.0], [-44.0, 10.0], [-44.0, 14.0], [-48.0, 14.0], [-48.0, 18.0], [-56.0, 18.0], [-56.0, 22.0], [-60.0, 22.0], [-60.0, 26.0], [-64.0, 26.0], [-64.0, 30.0], [-76.0, 30.0], [-76.0, 22.0], [-80.0, 22.0], [-80.0, 18.0], [-76.0, 18.0], [-76.0, 6.0], [-80.0, 6.0], [-80.0, 2.0], [-92.0, 2.0], [-92.0, -2.0], [-104.0, -2.0], [-104.0, -6.0], [-116.0, -6.0], [-116.0, -10.0], [-128.0, -10.0], [-128.0, -14.0], [-140.0, -14.0], [-140.0, -18.0], [-160.0, -18.0], [-160.0, -22.0], [-164.0, -22.0], [-164.0, -26.0], [-168.0, -26.0], [-168.0, -30.0], [-172.0, -30.0], [-172.0, -34.0], [-176.0, -34.0], [-176.0, -38.0], [-180.0, -38.0], [-180.0, -22.0], [-176.0, -22.0], [-176.0, -18.0], [-180.0, -18.0], [-180.0, -6.0], [-176.0, -6.0], [-176.0, -2.0], [-168.0, -2.0], [-168.0, 2.0], [-164.0, 2.0], [-164.0, 6.0], [-160.0, 6.0], [-160.0, 10.0], [-156.0, 10.0], [-156.0, 14.0], [-152.0, 14.0], [-152.0, 22.0], [-148.0, 22.0], [-148.0, 26.0], [-144.0, 26.0], [-144.0, 34.0], [-140.0, 34.0], [-140.0, 38.0], [-136.0, 38.0], [-136.0, 42.0], [-132.0, 42.0], [-132.0, 46.0], [-128.0, 46.0], [-128.0, 50.0], [-120.0, 50.0], [-120.0, 34.0], [-116.0, 34.0], [-116.0, 26.0], [-120.0, 26.0], [-120.0, 22.0], [-124.0, 22.0], [-124.0, 18.0], [-128.0, 18.0], [-128.0, 10.0], [-132.0, 10.0], [-132.0, 2.0], [-136.0, 2.0], [-136.0, -2.0], [-140.0, -2.0], [-140.0, -10.0], [-136.0, -10.0], [-136.0, -6.0], [-132.0, -6.0], [-132.0, -2.0], [-124.0, -2.0], [-124.0, 2.0], [-120.0, 2.0], [-120.0, 6.0], [-112.0, 6.0], [-112.0, 10.0], [-84.0, 10.0], [-84.0, 18.0], [-88.0, 18.0], [-88.0, 22.0], [-92.0, 22.0], [-92.0, 26.0], [-96.0, 26.0], [-96.0, 30.0], [-84.0, 30.0], [-84.0, 26.0], [-80.0, 26.0], [-80.0, 38.0], [-76.0, 38.0], [-76.0, 42.0], [-68.0, 42.0], [-68.0, 46.0], [-60.0, 46.0], [-60.0, 42.0], [-56.0, 42.0], [-56.0, 46.0], [-36.0, 46.0], [-36.0, 42.0], [-12.0, 42.0], [-12.0, 38.0], [0.0, 38.0], [0.0, 42.0], [4.0, 42.0], [4.0, 46.0], [12.0, 46.0], [12.0, 42.0], [16.0, 42.0], [16.0, 38.0], [28.0, 38.0], [28.0, 34.0], [36.0, 34.0], [36.0, 26.0], [40.0, 26.0], [40.0, 22.0], [44.0, 22.0], [44.0, 14.0], [48.0, 14.0], [48.0, 18.0], [60.0, 18.0], [60.0, 22.0], [68.0, 22.0], [68.0, 26.0], [72.0, 26.0], [72.0, 22.0], [76.0, 22.0], [76.0, 10.0], [80.0, 10.0], [80.0, 6.0], [84.0, 6.0], [84.0, 10.0], [100.0, 10.0], [100.0, 14.0], [104.0, 14.0], [104.0, 10.0], [108.0, 10.0], [108.0, 18.0], [104.0, 18.0], [104.0, 22.0], [112.0, 22.0], [112.0, 26.0], [116.0, 26.0], [116.0, 22.0], [120.0, 22.0], [120.0, 34.0], [116.0, 34.0], [116.0, 42.0], [124.0, 42.0], [124.0, 38.0], [132.0, 38.0], [132.0, 34.0], [136.0, 34.0], [136.0, 38.0], [144.0, 38.0], [144.0, 34.0], [148.0, 34.0], [148.0, 30.0], [152.0, 30.0], [152.0, 26.0], [156.0, 26.0], [156.0, 22.0], [160.0, 22.0], [160.0, 18.0], [164.0, 18.0], [164.0, 14.0], [168.0, 14.0], [168.0, 10.0], [172.0, 10.0], [172.0, 6.0], [176.0, 6.0], [176.0, 2.0], [180.0, 2.0], [180.0, -6.0], [172.0, -6.0], [172.0, -10.0], [180.0, -10.0], [180.0, -22.0], [172.0, -22.0], [172.0, -26.0], [168.0, -26.0], [168.0, -30.0], [180.0, -30.0], [180.0, -42.0], [176.0, -42.0], [176.0, -46.0], [172.0, -46.0], [172.0, -50.0], [164.0, -50.0], [164.0, -46.0], [160.0, -46.0], [160.0, -42.0], [152.0, -42.0], [152.0, -46.0], [156.0, -46.0], [156.0, -50.0], [160.0, -50.0], [160.0, -66.0], [148.0, -66.0], [148.0, -70.0], [136.0, -70.0]], [[88.0, 2.0], [96.0, 2.0], [96.0, 6.0], [88.0, 6.0], [88.0, 2.0]], [[96.0, 2.0], [96.0, -2.0], [100.0, -2.0], [100.0, 2.0], [96.0, 2.0]], [[148.0, 2.0], [152.0, 2.0], [152.0, -2.0], [156.0, -2.0], [156.0, -6.0], [160.0, -6.0], [160.0, -2.0], [168.0, -2.0], [168.0, 6.0], [156.0, 6.0], [156.0, 10.0], [144.0, 10.0], [144.0, 6.0], [148.0, 6.0], [148.0, 2.0]], [[144.0, 10.0], [144.0, 14.0], [140.0, 14.0], [140.0, 10.0], [144.0, 10.0]], [[116.0, -22.0], [116.0, -34.0], [120.0, -34.0], [120.0, -30.0], [140.0, -30.0], [140.0, -34.0], [148.0, -34.0], [148.0, -30.0], [144.0, -30.0], [144.0, -18.0], [136.0, -18.0], [136.0, -14.0], [132.0, -14.0], [132.0, -18.0], [124.0, -18.0], [124.0, -22.0], [116.0, -22.0]], [[148.0, -30.0], [152.0, -30.0], [152.0, -26.0], [148.0, -26.0], [148.0, -30.0]], [[-116.0, 2.0], [-116.0, -2.0], [-108.0, -2.0], [-108.0, 2.0], [-116.0, 2.0]], [[-108.0, 2.0], [-96.0, 2.0], [-96.0, 6.0], [-108.0, 6.0], [-108.0, 2.0]], [[-24.0, 2.0], [-20.0, 2.0], [-20.0, -2.0], [-16.0, -2.0], [-16.0, -6.0], [-12.0, -6.0], [-12.0, -10.0], [-8.0, -10.0], [-8.0, -14.0], [0.0, -14.0], [0.0, -18.0], [4.0, -18.0], [4.0, -22.0], [8.0, -22.0], [8.0, -26.0], [12.0, -26.0], [12.0, -30.0], [20.0, -30.0], [20.0, -34.0], [24.0, -34.0], [24.0, -30.0], [36.0, -30.0], [36.0, -26.0], [48.0, -26.0], [48.0, -22.0], [60.0, -22.0], [60.0, -18.0], [72.0, -18.0], [72.0, -14.0], [84.0, -14.0], [84.0, -10.0], [92.0, -10.0], [92.0, -2.0], [84.0, -2.0], [84.0, 2.0], [76.0, 2.0], [76.0, 6.0], [72.0, 6.0], [72.0, 14.0], [52.0, 14.0], [52.0, 10.0], [40.0, 10.0], [40.0, 18.0], [36.0, 18.0], [36.0, 22.0], [32.0, 22.0], [32.0, 30.0], [20.0, 30.0], [20.0, 34.0], [-36.0, 34.0], [-36.0, 38.0], [-68.0, 38.0], [-68.0, 34.0], [-60.0, 34.0], [-60.0, 30.0], [-56.0, 30.0], [-56.0, 26.0], [-52.0, 26.0], [-52.0, 22.0], [-44.0, 22.0], [-44.0, 18.0], [-40.0, 18.0], [-40.0, 14.0], [-36.0, 14.0], [-36.0, 10.0], [-32.0, 10.0], [-32.0, 6.0], [-24.0, 6.0], [-24.0, 2.0]], [[112.0, 2.0], [112.0, -2.0], [116.0, -2.0], [116.0, 10.0], [112.0, 10.0], [112.0, 2.0]], [[120.0, 2.0], [120.0, -2.0], [124.0, -2.0], [124.0, 6.0], [120.0, 6.0], [120.0, 2.0]], [[128.0, 6.0], [132.0, 6.0], [132.0, 10.0], [128.0, 10.0], [128.0, 6.0]], [[164.0, -10.0], [168.0, -10.0], [168.0, -6.0], [164.0, -6.0], [164.0, -10.0]], [[160.0, -14.0], [160.0, -18.0], [164.0, -18.0], [164.0, -14.0], [160.0, -14.0]], [[132.0, -6.0], [140.0, -6.0], [140.0, -2.0], [132.0, -2.0], [132.0, -6.0]], [[136.0, 18.0], [140.0, 18.0], [140.0, 26.0], [136.0, 26.0], [136.0, 18.0]], [[144.0, 18.0], [148.0, 18.0], [148.0, 14.0], [152.0, 14.0], [152.0, 22.0], [148.0, 22.0], [148.0, 26.0], [144.0, 26.0], [144.0, 18.0]], [[-128.0, 34.0], [-128.0, 30.0], [-124.0, 30.0], [-124.0, 34.0], [-128.0, 34.0]]]]}, 'licenseLink': 'http://creativecommons.org/licenses/by/4.0/', 'otherConstr': ['The citation in a list of references is: \"IMOS [year-of-data-download], [Title], [data-access-URL], accessed [date-of-access].\"', 'Any users of IMOS data are required to clearly acknowledge the source of the material derived from IMOS in the format: \"Data was sourced from Australia?s Integrated Marine Observing System (IMOS) ? IMOS is enabled by the National Collaborative Research Infrastructure strategy (NCRIS).\" If relevant, also credit other organisations involved in collection of this particular datastream (as listed in \\'credit\\' in the metadata record).'], 'tempExtentBegin': '2008-01-30t00:00:00.000z', 'boundingPolygon': 'y', 'licenseName': 'Creative Commons Attribution 4.0 International License', 'root': 'mdb:MD_Metadata', 'isTemplate': 'n', 'valid': '-1', 'feedbackCount': '0', 'rating': '0', 'source': 'dbee258b-8730-4072-96d4-2818a69a4afd', 'category': ['portal:IMOS', 'imos-hosted-content', 'MARVL'], 'status': 'notobsolete', 'owner': '124', 'recordOwner': 'imos_admin', 'link': ['|Point of truth URL of this metadata record|https://catalogue-imos.aodn.org.au:443/geonetwork/srv/api/records/ca15915b-38c5-4e95-8d25-9cc42c4dd485|WWW:LINK-1.0-http--metadata-URL|1', 'Link to SOOP-SST page on IMOS website||http://imos.org.au/sstsensors.html|WWW:LINK-1.0-http--link|text/html|1', 'IMOS ship SST for satellite SST validation - report||https://repository.oceanbestpractices.org/handle/11329/2074|WWW:LINK-1.0-http--link|text/html|1', 'NetCDF files via THREDDS catalog||http://thredds.aodn.org.au/thredds/catalog/IMOS/SOOP/SOOP-SST/catalog.html|WWW:LINK-1.0-http--link|text/html|1', 'View and download data though the AODN Portal||https://portal.aodn.org.au/search?uuid=ca15915b-38c5-4e95-8d25-9cc42c4dd485|WWW:LINK-1.0-http--link|text/html|1', 'imos:soop_sst_nrt_trajectory_map|SOOP SST Near real-time data|http://geoserver-123.aodn.org.au/geoserver/wms|OGC:WMS-1.1.1-http-get-map|application/vnd.ogc.wms_xml|1', 'imos:soop_sst_nrt_trajectory_map|SOOP SST Near real-time data|../../srv/en/google.kml?uuid=ca15915b-38c5-4e95-8d25-9cc42c4dd485&layers=imos:soop_sst_nrt_trajectory_map|application/vnd.google-earth.kml+xml|application/vnd.google-earth.kml+xml|1', 'soop_sst_nrt_trajectory_data|This OGC WFS service returns filtered geographic information. The returned data is available in multiple formats including CSV.|http://geoserver-123.aodn.org.au/geoserver/ows|OGC:WFS-1.0.0-http-get-capabilities|OGC:WFS-1.0.0-http-get-capabilities|1', 'OGC WFS help documentation||https://help.aodn.org.au/web-services/ogc-wfs/|WWW:LINK-1.0-http--link|text/html|1', 'soop_sst_nrt_trajectory_map#url|The ncUrlList is a WFS service that returns a list of URLs matching a query.|http://geoserver-123.aodn.org.au/geoserver/ows|IMOS:AGGREGATION--bodaac|IMOS:AGGREGATION--bodaac|1', 'ncUrlList help documentation||https://help.aodn.org.au/web-services/ncurllist-service/|WWW:LINK-1.0-http--link|text/html|1'], 'platform': ['vessel of opportunity', 'vessel of opportunity on fixed route', 'research vessel', 'Linnaeus', \"L'Astrolabe {FHZI}\", 'Cape Ferguson', 'Solander'], 'defaultTitle': 'IMOS - SOOP-Sea Surface Temperature (SST) Sub-facility - Near real-time data', 'datasetLang': 'eng', 'imageLink': 'https://licensebuttons.net/l/by/4.0/88x31.png', 'parameter': ['Electrical conductivity of the water body', 'Temperature of the water body', 'Practical salinity of the water body', 'Wind from direction in the atmosphere', 'Wind speed in the atmosphere', 'Pressure (measured variable) exerted by the atmosphere', 'Temperature of the atmosphere', 'Dew point temperature of the atmosphere', 'Wet bulb temperature of the atmosphere', 'Relative humidity of the atmosphere'], 'userinfo': 'imos_admin||imos_admin|Administrator', 'topicCat': 'oceans', 'featureTypes': [], 'tempExtentPeriod': '2008-01-30t00:00:00.000z|', 'creationDate': '2013-10-16T00:00:00', 'jurisdictionLink': 'http://creativecommons.org/international/', 'standardName': 'ISO 19115-3:2018', 'logo': '/images/logos/dbee258b-8730-4072-96d4-2818a69a4afd.png', 'parentId': '3999f117-b50e-4b5e-92e9-82ed04a736d5', 'draft': 'n', 'keywordGroup': {'NASA/Global Change Master Directory Earth Science Keywords Version 5.3.8': [{'value': 'Oceans | Ocean Temperature | Sea Surface Temperature', 'link': ''}, {'value': 'Oceans | Ocean Winds | Surface Winds', 'link': ''}, {'value': 'Atmosphere | Atmospheric Temperature | Air Temperature', 'link': ''}, {'value': 'Atmosphere | Atmospheric Pressure | Atmospheric Pressure', 'link': ''}, {'value': 'Atmosphere | Atmospheric Water Vapor | Dew Point', 'link': ''}], 'IMOS Keywords Thesaurus': [{'value': \"IMOS Platform | FHZI | L'Astrolabe\", 'link': ''}, {'value': 'IMOS Platform | VJQ7467 | Fantasea Wonder', 'link': ''}, {'value': 'IMOS Platform | VNSZ | Spirit of Tasmania II', 'link': ''}, {'value': 'IMOS Platform | VROB | Highland Chief', 'link': ''}, {'value': 'IMOS Platform | C6FS9 | Stadacona', 'link': ''}, {'value': 'IMOS Platform | VNAH | Portland', 'link': ''}, {'value': 'IMOS Platform | VRZN9 | Pacific Celebes', 'link': ''}, {'value': 'IMOS Platform | VNVR | Iron Yandi', 'link': ''}, {'value': 'IMOS Platform | 9HA2479 | Pacific Sun', 'link': ''}, {'value': 'IMOS Platform | VHW5167 | Sea Flyte', 'link': ''}, {'value': 'IMOS Platform | HSB3403 | Wana Bhum', 'link': ''}, {'value': 'IMOS Platform | VHW6005 | Linnaeus', 'link': ''}, {'value': 'IMOS Platform | HSB3402 | Xutra Bhum', 'link': ''}], 'AODN Geographic Extents Vocabulary': [{'value': 'Global / Oceans | Indian Ocean', 'link': ''}, {'value': 'Global / Oceans | Southern Ocean', 'link': ''}, {'value': 'Global / Oceans | Pacific Ocean', 'link': ''}, {'value': 'Global / Oceans | Atlantic Ocean', 'link': ''}, {'value': 'Regional Seas | Mediterranean Sea', 'link': ''}, {'value': 'Regional Seas | Red Sea', 'link': ''}, {'value': 'Regional Seas | Arabian Sea', 'link': ''}, {'value': 'Marine Features (Australia) | Great Australian Bight, SA/WA', 'link': ''}, {'value': 'Marine Features (Australia) | Bass Strait, TAS/VIC', 'link': ''}, {'value': 'Regional Seas | Tasman Sea', 'link': ''}, {'value': 'Regional Seas | Coral Sea', 'link': ''}, {'value': 'Regional Seas | Arafura Sea', 'link': ''}, {'value': 'Regional Seas | Java Sea', 'link': ''}, {'value': 'Regional Seas | Banda Sea', 'link': ''}, {'value': 'Regional Seas | Solomon Sea', 'link': ''}, {'value': 'Regional Seas | Philippine Sea', 'link': ''}, {'value': 'Regional Seas | South China Sea', 'link': ''}, {'value': 'Regional Seas | East China Sea', 'link': ''}, {'value': 'Marine Features | Strait of Malacca', 'link': ''}, {'value': 'Countries | Indonesia', 'link': ''}, {'value': 'Countries | Australia', 'link': ''}, {'value': 'Countries | New Zealand', 'link': ''}, {'value': 'Countries | Philippines', 'link': ''}, {'value': 'Countries | Papua New Guinea', 'link': ''}, {'value': 'Countries | Singapore', 'link': ''}, {'value': 'Countries | Timor-Leste', 'link': ''}, {'value': 'Countries | China', 'link': ''}, {'value': 'Countries | South Korea', 'link': ''}, {'value': 'Countries | Japan', 'link': ''}, {'value': 'Countries | New Caledonia', 'link': ''}, {'value': 'Countries | Vanuatu', 'link': ''}, {'value': 'Countries | French Polynesia', 'link': ''}, {'value': 'Countries | Fiji', 'link': ''}, {'value': 'Countries | Saudi Arabia', 'link': ''}, {'value': 'Countries | Samoa', 'link': ''}, {'value': 'Countries | Italy', 'link': ''}, {'value': 'Countries | United States of America', 'link': ''}, {'value': 'Countries | Panama', 'link': ''}, {'value': 'Countries | India', 'link': ''}, {'value': 'Continents | Antarctica', 'link': ''}, {'value': 'States, Territories (Australia) | Western Australia', 'link': ''}, {'value': 'States, Territories (Australia) | Queensland', 'link': ''}, {'value': 'States, Territories (Australia) | Victoria', 'link': ''}, {'value': 'States, Territories (Australia) | Tasmania', 'link': ''}, {'value': 'States, Territories (Australia) | New South Wales', 'link': ''}, {'value': 'States, Territories (Australia) | Northern Territory', 'link': ''}, {'value': 'States, Territories (Australia) | South Australia', 'link': ''}, {'value': 'Marine Features (Australia) | Great Barrier Reef, QLD', 'link': ''}], 'AODN Platform Vocabulary': [{'value': 'vessel of opportunity', 'link': 'http://vocab.nerc.ac.uk/collection/L06/current/32'}, {'value': 'vessel of opportunity on fixed route', 'link': 'http://vocab.nerc.ac.uk/collection/L06/current/35'}, {'value': 'research vessel', 'link': 'http://vocab.nerc.ac.uk/collection/L06/current/31'}, {'value': 'Linnaeus', 'link': 'http://vocab.aodn.org.au/def/platform/entity/109'}, {'value': \"L'Astrolabe {FHZI}\", 'link': 'http://vocab.nerc.ac.uk/collection/C17/current/353L'}, {'value': 'Cape Ferguson', 'link': 'http://vocab.aodn.org.au/def/platform/entity/71'}, {'value': 'Solander', 'link': 'http://vocab.aodn.org.au/def/platform/entity/72'}], 'AODN Discovery Parameter Vocabulary': [{'value': 'Electrical conductivity of the water body', 'link': 'http://vocab.nerc.ac.uk/collection/P01/current/CNDCZZ01'}, {'value': 'Temperature of the water body', 'link': 'http://vocab.nerc.ac.uk/collection/P01/current/TEMPPR01'}, {'value': 'Practical salinity of the water body', 'link': 'http://vocab.nerc.ac.uk/collection/P01/current/PSLTZZ01'}, {'value': 'Wind from direction in the atmosphere', 'link': 'http://vocab.nerc.ac.uk/collection/P01/current/EWDAZZ01'}, {'value': 'Wind speed in the atmosphere', 'link': 'http://vocab.nerc.ac.uk/collection/P01/current/ESSAZZ01'}, {'value': 'Pressure (measured variable) exerted by the atmosphere', 'link': 'http://vocab.nerc.ac.uk/collection/P01/current/CAPHZZ01'}, {'value': 'Temperature of the atmosphere', 'link': 'http://vocab.nerc.ac.uk/collection/P01/current/CTMPZZ01'}, {'value': 'Dew point temperature of the atmosphere', 'link': 'http://vocab.nerc.ac.uk/collection/P01/current/CDEWZZ01'}, {'value': 'Wet bulb temperature of the atmosphere', 'link': 'http://vocab.nerc.ac.uk/collection/P01/current/CWETZZ01'}, {'value': 'Relative humidity of the atmosphere', 'link': 'http://vocab.nerc.ac.uk/collection/P01/current/CRELZZ01'}], 'AODN Instrument Vocabulary': [{'value': 'water temperature sensor', 'link': 'http://vocab.nerc.ac.uk/collection/L05/current/134'}, {'value': 'salinity sensor', 'link': 'http://vocab.nerc.ac.uk/collection/L05/current/350'}, {'value': 'thermosalinographs', 'link': 'http://vocab.nerc.ac.uk/collection/L05/current/133'}, {'value': 'anemometers', 'link': 'http://vocab.nerc.ac.uk/collection/L05/current/101'}, {'value': 'meteorological packages', 'link': 'http://vocab.nerc.ac.uk/collection/L05/current/102'}], 'AODN Organisation Vocabulary': [{'value': 'Sea Surface Temperature Sensors for Australian Vessels Sub-Facility, Integrated Marine Observing System (IMOS)', 'link': 'http://vocab.aodn.org.au/def/organisation/entity/474'}], 'otherKeywords': []}, '_locale': 'eng', 'geonet:info': {'@xmlns:geonet': 'http://www.fao.org/geonetwork', 'id': '24799', 'uuid': 'ca15915b-38c5-4e95-8d25-9cc42c4dd485', 'schema': 'iso19115-3.2018', 'createDate': '2013-10-16T15:03:03', 'changeDate': '2022-12-13T01:01:48', 'source': 'dbee258b-8730-4072-96d4-2818a69a4afd', 'isPublishedToAll': 'true', 'view': 'true', 'notify': 'false', 'download': 'true', 'dynamic': 'true', 'featured': 'true', 'selected': 'false'}}\n"
     ]
    }
   ],
   "source": [
    "# This is the url to get catalog into, we want to loop all dataset in catalog, call API to import to app search engine and inject the json doc\n",
    "# we need to modify the geoPolygon so that the format match\n",
    "api = \"https://catalogue-imos.aodn.org.au/geonetwork/srv/eng/q?any={uuid}&type=dataset&_content_type=json&fast=index&from={f}&resultType=details&sortBy=relevance&to={t}\"\n",
    "\n",
    "with request.urlopen(api.format(uuid='ca15915b-38c5-4e95-8d25-9cc42c4dd485', f=1, t=1)) as r:\n",
    "    obj = json.loads(r.read().decode(\"utf-8\"))\n",
    "    totalRecord = int(obj[\"summary\"][\"@count\"])\n",
    "\n",
    "# Loop all record\n",
    "for i in range(1, totalRecord + 1, 100) :\n",
    "    with request.urlopen(api.format(uuid='ca15915b-38c5-4e95-8d25-9cc42c4dd485', f=i, t=i+1)) as r:\n",
    "        obj = json.loads(r.read().decode(\"utf-8\"))\n",
    "        metas = obj[\"metadata\"]\n",
    "\n",
    "        if not isinstance(metas, (list)):\n",
    "            metas = [ metas ]\n",
    "\n",
    "        for c in metas:\n",
    "            c[\"geoPolygon\"] = {\n",
    "                \"type\": \"MultiPolygon\",\n",
    "                \"coordinates\": translate_trajectory_multipolygon(c[\"geoPolygon\"])\n",
    "            }\n",
    "\n",
    "            \n",
    "            print(c)\n",
    "            \n",
    "#             x = postApi.post(\n",
    "#                 \"https://ec2-54-253-84-18.ap-southeast-2.compute.amazonaws.com:9200/search-soop-trajectory-data/_doc\",\n",
    "#                 json = c,\n",
    "#                 verify=False,\n",
    "#                 headers=headers\n",
    "#             )\n",
    "\n",
    "#             print(x.text)\n"
   ]
  },
  {
   "cell_type": "code",
   "execution_count": null,
   "metadata": {
    "collapsed": false,
    "jupyter": {
     "outputs_hidden": false
    }
   },
   "outputs": [],
   "source": []
  }
 ],
 "metadata": {
  "kernelspec": {
   "display_name": "Python 3 (ipykernel)",
   "language": "python",
   "name": "python3"
  },
  "language_info": {
   "codemirror_mode": {
    "name": "ipython",
    "version": 3
   },
   "file_extension": ".py",
   "mimetype": "text/x-python",
   "name": "python",
   "nbconvert_exporter": "python",
   "pygments_lexer": "ipython3",
   "version": "3.9.13"
  },
  "vscode": {
   "interpreter": {
    "hash": "a701007c31514b864d702fba59ad4cc8f823c5ee68f488fea6742cf9e3c7f8b7"
   }
  }
 },
 "nbformat": 4,
 "nbformat_minor": 4
}
